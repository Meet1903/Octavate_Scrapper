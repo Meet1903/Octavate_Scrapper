{
 "cells": [
  {
   "cell_type": "code",
   "execution_count": 1,
   "metadata": {},
   "outputs": [],
   "source": [
    "import requests\n",
    "from bs4 import BeautifulSoup\n",
    "\n",
    "def get_urls(domain):\n",
    "    response = requests.get(domain)\n",
    "    soup = BeautifulSoup(response.content, 'html.parser')\n",
    "    urls = []\n",
    "\n",
    "    for link in soup.find_all('a'):\n",
    "        if 'href' in link.attrs:\n",
    "            url = link.attrs['href']\n",
    "            if url.startswith('/') or url.startswith(domain):\n",
    "                urls.append(url)\n",
    "\n",
    "    return urls\n",
    "\n",
    "domain = 'https://www.billboard.com/'\n",
    "urls = get_urls(domain)\n",
    "\n",
    "# for url in urls:\n",
    "#     print(url)\n"
   ]
  },
  {
   "cell_type": "code",
   "execution_count": 2,
   "metadata": {},
   "outputs": [
    {
     "name": "stdout",
     "output_type": "stream",
     "text": [
      "HTML content saved to file: html_files/html_file_0.html\n",
      "HTML content saved to file: html_files/html_file_2.html\n",
      "HTML content saved to file: html_files/html_file_3.html\n",
      "HTML content saved to file: html_files/html_file_4.html\n",
      "HTML content saved to file: html_files/html_file_8.html\n",
      "HTML content saved to file: html_files/html_file_9.html\n"
     ]
    }
   ],
   "source": [
    "\n",
    "import os\n",
    "import requests\n",
    "\n",
    "def save_html(urls):\n",
    "    folder_path = \"html_files\"\n",
    "    os.makedirs(folder_path, exist_ok=True)\n",
    "\n",
    "    for index, url in enumerate(urls[:10]):\n",
    "        if url.startswith(\"https://\"):\n",
    "            response = requests.get(url)\n",
    "            if response.status_code == 200:\n",
    "                filename = f\"html_file_{index}.html\"\n",
    "                file_path = os.path.join(folder_path, filename)\n",
    "                with open(file_path, 'w', encoding='utf-8') as file:\n",
    "                    file.write(response.text)\n",
    "                print(f\"HTML content saved to file: {file_path}\")\n",
    "            else:\n",
    "                print(f\"Failed to retrieve HTML for URL: {url}\")\n",
    "\n",
    "domain = 'https://www.billboard.com/'\n",
    "urls = get_urls(domain)\n",
    "save_html(urls)\n"
   ]
  },
  {
   "cell_type": "code",
   "execution_count": 3,
   "metadata": {},
   "outputs": [],
   "source": [
    "from bs4 import BeautifulSoup\n",
    "\n",
    "def extract_text_from_html_file(file_path):\n",
    "    with open(file_path, 'r', encoding='utf-8') as file:\n",
    "        html = file.read()\n",
    "    soup = BeautifulSoup(html, 'html.parser')\n",
    "    text = soup.get_text()\n",
    "    text = text.strip()\n",
    "    # Replace consecutive spaces with a single space\n",
    "    text = ' '.join(text.split())\n",
    "    filename = f\"html_text.txt\"\n",
    "    with open(filename, 'a', encoding='utf-8') as file:\n",
    "        file.write(text)\n",
    "    return text\n",
    "\n"
   ]
  },
  {
   "cell_type": "code",
   "execution_count": 4,
   "metadata": {},
   "outputs": [],
   "source": [
    "import os\n",
    "\n",
    "def read_html_files(folder_path):\n",
    "    html_files = []\n",
    "    for filename in os.listdir(folder_path):\n",
    "        if filename.endswith(\".html\"):\n",
    "            file_path = os.path.join(folder_path, filename)\n",
    "            text_data = extract_text_from_html_file(file_path)\n",
    "\n",
    "read_html_files('html_files')"
   ]
  },
  {
   "cell_type": "code",
   "execution_count": null,
   "metadata": {},
   "outputs": [],
   "source": []
  }
 ],
 "metadata": {
  "kernelspec": {
   "display_name": "Python 3",
   "language": "python",
   "name": "python3"
  },
  "language_info": {
   "codemirror_mode": {
    "name": "ipython",
    "version": 3
   },
   "file_extension": ".py",
   "mimetype": "text/x-python",
   "name": "python",
   "nbconvert_exporter": "python",
   "pygments_lexer": "ipython3",
   "version": "3.11.3"
  },
  "orig_nbformat": 4
 },
 "nbformat": 4,
 "nbformat_minor": 2
}
