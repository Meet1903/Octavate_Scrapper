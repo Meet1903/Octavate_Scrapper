{
 "cells": [
  {
   "cell_type": "code",
   "execution_count": 21,
   "metadata": {},
   "outputs": [],
   "source": [
    "import requests\n",
    "from bs4 import BeautifulSoup\n",
    "import os\n",
    "\n",
    "def retrieve_domain_names(file_path):\n",
    "    domain_names = []\n",
    "    with open(file_path, 'r') as file:\n",
    "        for line in file:\n",
    "            line = line.strip() \n",
    "            domain_names.append(line)\n",
    "    return domain_names\n",
    "\n",
    "def get_urls(domains):\n",
    "    for domain in domains:\n",
    "        print(domain)\n",
    "        response = requests.get(domain)\n",
    "        soup = BeautifulSoup(response.content, 'html.parser')\n",
    "        urls = []\n",
    "\n",
    "        for link in soup.find_all('a'):\n",
    "            if 'href' in link.attrs:\n",
    "                url = link.attrs['href']\n",
    "                if url.startswith('/') or url.startswith(domain):\n",
    "                    urls.append(url)\n",
    "\n",
    "    return urls\n",
    "\n",
    "def save_html(urls):\n",
    "    folder_path = \"html_files\"\n",
    "    os.makedirs(folder_path, exist_ok=True)\n",
    "\n",
    "    for index, url in enumerate(urls[:20]):\n",
    "        if url.startswith(\"https://\") or url.startswith(\"http://\"):\n",
    "            response = requests.get(url)\n",
    "            if response.status_code == 200:\n",
    "                filename = f\"html_file_{index}.html\"\n",
    "                file_path = os.path.join(folder_path, filename)\n",
    "                with open(file_path, 'w', encoding='utf-8') as file:\n",
    "                    file.write(response.text)\n",
    "            else:\n",
    "                continue\n",
    "\n"
   ]
  },
  {
   "cell_type": "code",
   "execution_count": 22,
   "metadata": {},
   "outputs": [
    {
     "name": "stdout",
     "output_type": "stream",
     "text": [
      "https://www.musicbusinessworldwide.com/\n",
      "https://www.billboard.com/\n"
     ]
    }
   ],
   "source": [
    "domains = retrieve_domain_names('domain_list.txt')\n",
    "urls = get_urls(domains)\n",
    "save_html(urls)\n"
   ]
  },
  {
   "cell_type": "code",
   "execution_count": 23,
   "metadata": {},
   "outputs": [],
   "source": [
    "\n",
    "def extract_text_from_html_file(file_path):\n",
    "    with open(file_path, 'r', encoding='utf-8') as file:\n",
    "        html = file.read()\n",
    "    soup = BeautifulSoup(html, 'html.parser')\n",
    "    text = soup.get_text()\n",
    "    text = text.strip()\n",
    "    text = ' '.join(text.split())\n",
    "    filename = f\"html_text.txt\"\n",
    "    with open(filename, 'a', encoding='utf-8') as file:\n",
    "        file.write(text)\n",
    "    return text\n",
    "\n",
    "def read_html_files(folder_path):\n",
    "    html_files = []\n",
    "    for filename in os.listdir(folder_path):\n",
    "        if filename.endswith(\".html\"):\n",
    "            file_path = os.path.join(folder_path, filename)\n",
    "            text_data = extract_text_from_html_file(file_path)"
   ]
  },
  {
   "cell_type": "code",
   "execution_count": 24,
   "metadata": {},
   "outputs": [],
   "source": [
    "read_html_files('html_files')\n"
   ]
  },
  {
   "cell_type": "code",
   "execution_count": null,
   "metadata": {},
   "outputs": [],
   "source": []
  }
 ],
 "metadata": {
  "kernelspec": {
   "display_name": "Python 3",
   "language": "python",
   "name": "python3"
  },
  "language_info": {
   "codemirror_mode": {
    "name": "ipython",
    "version": 3
   },
   "file_extension": ".py",
   "mimetype": "text/x-python",
   "name": "python",
   "nbconvert_exporter": "python",
   "pygments_lexer": "ipython3",
   "version": "3.11.3"
  },
  "orig_nbformat": 4
 },
 "nbformat": 4,
 "nbformat_minor": 2
}
